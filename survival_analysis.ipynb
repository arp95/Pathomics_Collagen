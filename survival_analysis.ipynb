{
 "cells": [
  {
   "cell_type": "code",
   "execution_count": 1,
   "id": "a5c4856a",
   "metadata": {},
   "outputs": [
    {
     "name": "stdout",
     "output_type": "stream",
     "text": [
      "Header files loaded!\n"
     ]
    }
   ],
   "source": [
    "# header files\n",
    "%matplotlib inline\n",
    "import os\n",
    "import glob\n",
    "import csv\n",
    "import numpy as np\n",
    "import pandas as pd\n",
    "from sksurv.nonparametric import kaplan_meier_estimator\n",
    "from sksurv.linear_model import CoxnetSurvivalAnalysis\n",
    "from sksurv.linear_model import CoxPHSurvivalAnalysis\n",
    "from sksurv.ensemble import RandomSurvivalForest\n",
    "from sksurv.svm import HingeLossSurvivalSVM\n",
    "from sksurv.metrics import (\n",
    "    concordance_index_censored,\n",
    "    concordance_index_ipcw,\n",
    "    cumulative_dynamic_auc,\n",
    "    integrated_brier_score,\n",
    ")\n",
    "from sklearn.preprocessing import StandardScaler, MinMaxScaler, RobustScaler\n",
    "from sklearn.pipeline import make_pipeline\n",
    "from sklearn.model_selection import KFold\n",
    "from sklearn.model_selection import train_test_split\n",
    "import matplotlib.pyplot as plt\n",
    "from sklearn.feature_selection import SelectKBest\n",
    "from sklearn.feature_selection import chi2, f_regression, f_classif\n",
    "import matplotlib.pyplot as plt\n",
    "from datetime import datetime\n",
    "plt.rcParams['figure.figsize'] = [4, 4]\n",
    "print(\"Header files loaded!\")"
   ]
  },
  {
   "cell_type": "code",
   "execution_count": 2,
   "id": "95f93ccb",
   "metadata": {},
   "outputs": [
    {
     "name": "stdout",
     "output_type": "stream",
     "text": [
      "102\n",
      "117\n",
      "150\n"
     ]
    }
   ],
   "source": [
    "tcga_oc_files = glob.glob(\"survival_analysis_results/ovary/tcga/*\")\n",
    "upmc_oc_files = glob.glob(\"survival_analysis_results/ovary/upmc/*\")\n",
    "ucla_oc_files = glob.glob(\"survival_analysis_results/ovary/ucla/*\")\n",
    "print(len(tcga_oc_files))\n",
    "print(len(upmc_oc_files))\n",
    "print(len(ucla_oc_files))"
   ]
  },
  {
   "cell_type": "code",
   "execution_count": 3,
   "id": "aa0e10fb",
   "metadata": {},
   "outputs": [
    {
     "name": "stdout",
     "output_type": "stream",
     "text": [
      "102\n",
      "102\n",
      "102\n",
      "102\n",
      "102\n",
      "102\n",
      "102\n",
      "102\n",
      "102\n",
      "102\n",
      "102\n",
      "102\n",
      "102\n"
     ]
    }
   ],
   "source": [
    "# create output survival information for training model\n",
    "is_ovarian_cancer = 1\n",
    "if is_ovarian_cancer:\n",
    "    pfs_event_temp = []\n",
    "    pfs_days_temp = []\n",
    "    os_event_temp = []\n",
    "    os_days_temp = []\n",
    "    filenames_temp = []\n",
    "    age_temp = []\n",
    "    stage_temp = []\n",
    "    hrd_temp = []\n",
    "    cr_temp = []\n",
    "    pr_temp = []\n",
    "    pd_temp = []\n",
    "    brca_temp = []\n",
    "    debulking_temp = []\n",
    "    flag = -1\n",
    "    c = 0\n",
    "    with open(\"survival_analysis_results/ovary/tcga.csv\", newline='', encoding = \"ISO-8859-1\") as csvfile:\n",
    "        spamreader = csv.reader(csvfile)\n",
    "        for row in spamreader:\n",
    "            if flag == -1:\n",
    "                flag = 1\n",
    "            else:\n",
    "                array = row\n",
    "                filenames_temp.append(array[0])\n",
    "                age_temp.append(float(array[1]))\n",
    "                os_days_temp.append(float(array[10])*30.5)\n",
    "                pfs_days_temp.append(float(array[11])*30.5)\n",
    "                \n",
    "                if array[12] == \"1:DECEASED\":\n",
    "                    os_event_temp.append(True)\n",
    "                else:\n",
    "                    os_event_temp.append(False)\n",
    "                \n",
    "                if array[13] == \"1:PROGRESSION\":\n",
    "                    pfs_event_temp.append(True)\n",
    "                else:\n",
    "                    pfs_event_temp.append(False)\n",
    "                    \n",
    "                if array[17] == \"Stage IIIC\":\n",
    "                    stage_temp.append(3)\n",
    "                elif array[17] == \"Stage IV\":\n",
    "                    stage_temp.append(4)\n",
    "                elif array[17] == \"Stage IIIB\":\n",
    "                    stage_temp.append(3)\n",
    "                elif array[17] == \"Stage IIA\":\n",
    "                    stage_temp.append(2)\n",
    "                elif array[17] == \"Stage IIC\":\n",
    "                    stage_temp.append(2)\n",
    "                elif array[17] == \"Stage IIB\":\n",
    "                    stage_temp.append(2)\n",
    "                elif array[17] == \"Stage IC\":\n",
    "                    stage_temp.append(1)\n",
    "                else:\n",
    "                    stage_temp.append(3)\n",
    "                    \n",
    "                if array[26] == \"completeresponse\":\n",
    "                    cr_temp.append(1)\n",
    "                else:\n",
    "                    cr_temp.append(0)\n",
    "                \n",
    "                if array[26] == \"partialresponse\":\n",
    "                    pr_temp.append(1)\n",
    "                else:\n",
    "                    pr_temp.append(0)\n",
    "                \n",
    "                if array[26] == \"progressivedisease\":\n",
    "                    pd_temp.append(1)\n",
    "                else:\n",
    "                    pd_temp.append(0)\n",
    "                \n",
    "                if array[28] == \"NA\":\n",
    "                    hrd_temp.append(-1)\n",
    "                elif array[28] == \"low\":\n",
    "                    hrd_temp.append(0)\n",
    "                else:\n",
    "                    hrd_temp.append(1)\n",
    "                \n",
    "                if array[25] == \"NA\":\n",
    "                    brca_temp.append(-1)\n",
    "                elif array[25] == \"BRCAmut\" or array[25] == \"BRCA1meth\":\n",
    "                    brca_temp.append(1)\n",
    "                else:\n",
    "                    brca_temp.append(0)\n",
    "                    \n",
    "                if array[22] == \"No residual disease R0\":\n",
    "                    debulking_temp.append(1)\n",
    "                elif array[22] == \"Residual disease R1\":\n",
    "                    debulking_temp.append(0)\n",
    "                else:\n",
    "                    debulking_temp.append(-1)\n",
    "    print(len(filenames_temp))\n",
    "    print(len(age_temp))\n",
    "    print(len(stage_temp))\n",
    "    print(len(debulking_temp))\n",
    "    print(len(brca_temp))\n",
    "    print(len(hrd_temp))\n",
    "    print(len(pr_temp))\n",
    "    print(len(cr_temp))\n",
    "    print(len(pd_temp))\n",
    "    print(len(os_days_temp))\n",
    "    print(len(os_event_temp))\n",
    "    print(len(pfs_days_temp))\n",
    "    print(len(pfs_event_temp))"
   ]
  },
  {
   "cell_type": "code",
   "execution_count": 4,
   "id": "73eaba8d",
   "metadata": {},
   "outputs": [
    {
     "name": "stdout",
     "output_type": "stream",
     "text": [
      "128\n",
      "128\n",
      "128\n",
      "128\n",
      "128\n",
      "128\n",
      "128\n",
      "128\n",
      "128\n",
      "128\n",
      "128\n",
      "128\n",
      "128\n"
     ]
    }
   ],
   "source": [
    "# create output survival information for testing model\n",
    "is_ovarian_cancer = 1\n",
    "if is_ovarian_cancer:\n",
    "    t_pfs_event_temp = []\n",
    "    t_pfs_days_temp = []\n",
    "    t_os_event_temp = []\n",
    "    t_os_days_temp = []\n",
    "    t_filenames_temp = []\n",
    "    t_age_temp = []\n",
    "    t_stage_temp = []\n",
    "    t_hrd_temp = []\n",
    "    t_cr_temp = []\n",
    "    t_pr_temp = []\n",
    "    t_pd_temp = []\n",
    "    t_brca_temp = []\n",
    "    t_debulking_temp = []\n",
    "    flag = -1\n",
    "    c = 0\n",
    "    with open(\"survival_analysis_results/ovary/upmc.csv\", newline='', encoding = \"ISO-8859-1\") as csvfile:\n",
    "        spamreader = csv.reader(csvfile)\n",
    "        for row in spamreader:\n",
    "            if flag == -1:\n",
    "                flag = 1\n",
    "            else:\n",
    "                array = row\n",
    "                t_filenames_temp.append(array[0])\n",
    "                t_age_temp.append(float(array[9]))\n",
    "                \n",
    "                if array[3] == \"CR\":\n",
    "                    t_cr_temp.append(1)\n",
    "                else:\n",
    "                    t_cr_temp.append(0)\n",
    "                    \n",
    "                if array[3] == \"PR\":\n",
    "                    t_pr_temp.append(1)\n",
    "                else:\n",
    "                    t_pr_temp.append(0)\n",
    "                \n",
    "                if array[3] == \"PD\":\n",
    "                    t_pd_temp.append(1)\n",
    "                else:\n",
    "                    t_pd_temp.append(0)\n",
    "                    \n",
    "                if array[8] == \"Yes\":\n",
    "                    t_debulking_temp.append(1)\n",
    "                elif array[8] == \"No\":\n",
    "                    t_debulking_temp.append(0)\n",
    "                else:\n",
    "                    t_debulking_temp.append(-1)\n",
    "                    \n",
    "                if array[12] == \"0\" and array[13] == \"0\":\n",
    "                    t_brca_temp.append(0)\n",
    "                else:\n",
    "                    t_brca_temp.append(1)\n",
    "                \n",
    "                if array[1] == \"1\":\n",
    "                    t_hrd_temp.append(1)\n",
    "                elif array[1] == \"0\":\n",
    "                    t_hrd_temp.append(0)\n",
    "                else:\n",
    "                    t_hrd_temp.append(-1)\n",
    "                \n",
    "                if array[4] == \"DOD\" or array[4] == \"D-other\":\n",
    "                    t_os_event_temp.append(True)\n",
    "                else:\n",
    "                    t_os_event_temp.append(False)\n",
    "                if array[7] == \"\" or array[7] == \"NA\":\n",
    "                    t_os_days_temp.append(0)\n",
    "                else:\n",
    "                    t_os_days_temp.append(int(array[7])*30.5)\n",
    "                    \n",
    "                if array[5] == \"Yes\":\n",
    "                    t_pfs_event_temp.append(True)\n",
    "                else:\n",
    "                    t_pfs_event_temp.append(False)\n",
    "                if array[6] == \"\" or array[6] == \"NA\":\n",
    "                    if array[7] == \"\" or array[7] == \"NA\":\n",
    "                        t_pfs_days_temp.append(0)\n",
    "                    else:\n",
    "                        t_pfs_days_temp.append(int(array[7])*30.5)\n",
    "                else:\n",
    "                    t_pfs_days_temp.append(int(array[6])*30.5)\n",
    "                \n",
    "                if array[11] == \"IIIc\":\n",
    "                    t_stage_temp.append(3)\n",
    "                elif array[11] == \"IV\":\n",
    "                    t_stage_temp.append(4)\n",
    "                elif array[11] == \"IVb\":\n",
    "                    t_stage_temp.append(4)\n",
    "                elif array[11] == \"IIIa\":\n",
    "                    t_stage_temp.append(3)\n",
    "                elif array[11] == \"IIIb\":\n",
    "                    t_stage_temp.append(3)\n",
    "                elif array[11] == \"IIIa1\":\n",
    "                    t_stage_temp.append(3)\n",
    "                elif array[11] == \"IIIa2\":\n",
    "                    t_stage_temp.append(3)\n",
    "                elif array[11] == \"II\":\n",
    "                    t_stage_temp.append(2)\n",
    "                elif array[11] == \"IIc\":\n",
    "                    t_stage_temp.append(2)\n",
    "                elif array[11] == \"IIb\":\n",
    "                    t_stage_temp.append(2)\n",
    "                elif array[11] == \"IIa\":\n",
    "                    t_stage_temp.append(2)\n",
    "                elif array[11] == \"I\":\n",
    "                    t_stage_temp.append(1)\n",
    "                else:\n",
    "                    t_stage_temp.append(3)\n",
    "    print(len(t_filenames_temp))\n",
    "    print(len(t_age_temp))\n",
    "    print(len(t_stage_temp))\n",
    "    print(len(t_debulking_temp))\n",
    "    print(len(t_brca_temp))\n",
    "    print(len(t_hrd_temp))\n",
    "    print(len(t_pr_temp))\n",
    "    print(len(t_cr_temp))\n",
    "    print(len(t_pd_temp))\n",
    "    print(len(t_os_days_temp))\n",
    "    print(len(t_os_event_temp))\n",
    "    print(len(t_pfs_days_temp))\n",
    "    print(len(t_pfs_event_temp))"
   ]
  },
  {
   "cell_type": "code",
   "execution_count": 5,
   "id": "8a27441d",
   "metadata": {},
   "outputs": [
    {
     "name": "stdout",
     "output_type": "stream",
     "text": [
      "['RNASeq130Patients', 'NanoString152Patients', 'R2_NanoString_ID', 'Patient_Deidentified_ID', 'Age_at_Diagnosis', 'Height_Inches', 'Weight_Pounds', 'BMI', 'Race', 'Ethnicity', 'Mutation_Status', 'Mutation_Description', 'Patient_Mutant_History', 'Primary Cancer Types (Ovary, FT, Peritoneal) ', 'Debulking  (optimal vs suboptimal) ', 'Cancer Stage', 'Tumor Grades', 'Neoadjuvant therapy or not', 'Disease Free Interval - Time to First Recurrence (months)', 'Recurrence (yes or no)', 'Status_recurrence_or_progressive_disease', 'Progressive_disease_or_subopt_debulk_or_recurr_within_12_months_or_died_within_24_months', 'Progressive_disease_or_recurr_1y_or_less', 'Overall Survival: Time to Death or to last survival status if alive (months)', 'Patient_status ', 'Patient_status ', 'Additional_Notes', '%Immune', '%Fibroblasts', '%Tumor']\n",
      "154\n",
      "154\n",
      "154\n",
      "0\n",
      "0\n",
      "0\n",
      "0\n",
      "0\n",
      "0\n",
      "154\n",
      "154\n",
      "154\n",
      "154\n"
     ]
    }
   ],
   "source": [
    "# create output survival information for testing model\n",
    "is_ovarian_cancer = 1\n",
    "if is_ovarian_cancer:\n",
    "    t1_pfs_event_temp = []\n",
    "    t1_pfs_days_temp = []\n",
    "    t1_os_event_temp = []\n",
    "    t1_os_days_temp = []\n",
    "    t1_filenames_temp = []\n",
    "    t1_age_temp = []\n",
    "    t1_stage_temp = []\n",
    "    t1_hrd_temp = []\n",
    "    t1_cr_temp = []\n",
    "    t1_pr_temp = []\n",
    "    t1_pd_temp = []\n",
    "    t1_brca_temp = []\n",
    "    t1_debulking_temp = []\n",
    "    flag = -1\n",
    "    c = 0\n",
    "    with open(\"survival_analysis_results/ovary/ucla.csv\", newline='', encoding = \"ISO-8859-1\") as csvfile:\n",
    "        spamreader = csv.reader(csvfile)\n",
    "        for row in spamreader:\n",
    "            if flag == -1:\n",
    "                flag = 1\n",
    "                print(row)\n",
    "            else:\n",
    "                array = row\n",
    "                t1_filenames_temp.append(array[3])\n",
    "                t1_age_temp.append(float(array[4]))\n",
    "                t1_os_days_temp.append(float(array[23])*30.5)\n",
    "                \n",
    "                if row[18] == \"\":\n",
    "                    t1_pfs_days_temp.append(0.0)\n",
    "                else:\n",
    "                    t1_pfs_days_temp.append(float(array[18])*30.5)\n",
    "                \n",
    "                if array[25] == \"1\":\n",
    "                    t1_os_event_temp.append(True)\n",
    "                else:\n",
    "                    t1_os_event_temp.append(False)\n",
    "                \n",
    "                if array[19] == \"Yes\":\n",
    "                    t1_pfs_event_temp.append(True)\n",
    "                else:\n",
    "                    t1_pfs_event_temp.append(False)\n",
    "                    \n",
    "                if array[15] == \"IIIC\":\n",
    "                    t1_stage_temp.append(3)\n",
    "                elif array[15] == \"IV\":\n",
    "                    t1_stage_temp.append(4)\n",
    "                elif array[15] == \"IIIB\":\n",
    "                    t1_stage_temp.append(3)\n",
    "                elif array[15] == \"IIIA\":\n",
    "                    t1_stage_temp.append(3)\n",
    "                elif array[15] == \"III\":\n",
    "                    t1_stage_temp.append(3)\n",
    "                elif array[15] == \"IIA\":\n",
    "                    t1_stage_temp.append(2)\n",
    "                elif array[15] == \"IIC\":\n",
    "                    t1_stage_temp.append(2)\n",
    "                elif array[15] == \"IIB\":\n",
    "                    t1_stage_temp.append(2)\n",
    "                elif array[15] == \"IC\":\n",
    "                    t1_stage_temp.append(1)\n",
    "                else:\n",
    "                    t1_stage_temp.append(3)\n",
    "                    \n",
    "    print(len(t1_filenames_temp))\n",
    "    print(len(t1_age_temp))\n",
    "    print(len(t1_stage_temp))\n",
    "    print(len(t1_debulking_temp))\n",
    "    print(len(t1_brca_temp))\n",
    "    print(len(t1_hrd_temp))\n",
    "    print(len(t1_pr_temp))\n",
    "    print(len(t1_cr_temp))\n",
    "    print(len(t1_pd_temp))\n",
    "    print(len(t1_os_days_temp))\n",
    "    print(len(t1_os_event_temp))\n",
    "    print(len(t1_pfs_days_temp))\n",
    "    print(len(t1_pfs_event_temp))"
   ]
  },
  {
   "cell_type": "code",
   "execution_count": 6,
   "id": "17766394",
   "metadata": {},
   "outputs": [
    {
     "name": "stdout",
     "output_type": "stream",
     "text": [
      "102\n",
      "[1.171941133036615, 2.2959641149086463, 1.2734015856142278, 2.294842887677939, 1.3630914222864567, 2.2971831200210606, 1.4419773818047057, 2.2930770181341265, 1.5215349440211505, 2.2906935879728403, 1.5845584762337994, 2.2890937402546077, 1.672927439286999, 2.292230641993306, 1.717596980802387, 2.291076243910365, 1.7872802767678533, 2.292495291577524, 0.5977914775705666, 2.2960208013429573, 0.6702316191708713, 2.297894492878315, 0.7551284825998712, 2.2960208013429573, 0.8149309852344033, 2.2928703499349146, 0.8956122528233192, 2.2960208013429573, 0.9737443721686092, 2.2900893655153496, 1.0209029561271683, 2.288537761403695, 1.123396061285378, 2.291757278478528, 1.1756532003587183, 2.2960208013429573]\n"
     ]
    }
   ],
   "source": [
    "tcga_features = []\n",
    "for file in tcga_oc_files:\n",
    "    filename = file.split(\"/\")[-1]\n",
    "    flag = -1\n",
    "    file_features = []\n",
    "    with open(\"survival_analysis_results/ovary/tcga/\"+filename, newline='') as csvfile:\n",
    "        spamreader = csv.reader(csvfile)\n",
    "        for row in spamreader:\n",
    "            if flag == -1:\n",
    "                array = row\n",
    "                for index in range(0, len(row)):\n",
    "                    val = float(row[index])\n",
    "                    file_features.append(val)                \n",
    "    tcga_features.append(file_features)\n",
    "print(len(tcga_features))\n",
    "print(tcga_features[0])"
   ]
  },
  {
   "cell_type": "code",
   "execution_count": 7,
   "id": "edf93b97",
   "metadata": {},
   "outputs": [
    {
     "name": "stdout",
     "output_type": "stream",
     "text": [
      "117\n"
     ]
    }
   ],
   "source": [
    "upmc_features = []\n",
    "for file in upmc_oc_files:\n",
    "    filename = file.split(\"/\")[-1]\n",
    "    flag = -1\n",
    "    file_features = []\n",
    "    with open(\"survival_analysis_results/ovary/upmc/\"+filename, newline='') as csvfile:\n",
    "        spamreader = csv.reader(csvfile)\n",
    "        for row in spamreader:\n",
    "            if flag == -1:\n",
    "                for index in range(0, len(row)):\n",
    "                    val = float(row[index])\n",
    "                    file_features.append(val)\n",
    "    upmc_features.append(file_features)\n",
    "print(len(upmc_features))"
   ]
  },
  {
   "cell_type": "code",
   "execution_count": 8,
   "id": "a8c4b43b",
   "metadata": {},
   "outputs": [
    {
     "name": "stdout",
     "output_type": "stream",
     "text": [
      "150\n"
     ]
    }
   ],
   "source": [
    "ucla_features = []\n",
    "for file in ucla_oc_files:\n",
    "    filename = file.split(\"/\")[-1]\n",
    "    flag = -1\n",
    "    file_features = []\n",
    "    with open(\"survival_analysis_results/ovary/ucla/\"+filename, newline='') as csvfile:\n",
    "        spamreader = csv.reader(csvfile)\n",
    "        for row in spamreader:\n",
    "            if flag == -1:\n",
    "                for index in range(0, len(row)):\n",
    "                    val = float(row[index])\n",
    "                    file_features.append(val)\n",
    "    ucla_features.append(file_features)\n",
    "print(len(ucla_features))"
   ]
  },
  {
   "cell_type": "code",
   "execution_count": 9,
   "id": "a257a321",
   "metadata": {},
   "outputs": [
    {
     "name": "stdout",
     "output_type": "stream",
     "text": [
      "102\n",
      "102\n",
      "102\n",
      "102\n",
      "102\n",
      "102\n",
      "102\n",
      "102\n",
      "102\n",
      "102\n",
      "102\n",
      "102\n"
     ]
    }
   ],
   "source": [
    "train_pfs_event = []\n",
    "train_pfs_days = []\n",
    "train_os_event = []\n",
    "train_os_days = []\n",
    "train_age = []\n",
    "train_stage = []\n",
    "train_hrd = []\n",
    "train_cr = []\n",
    "train_pr = []\n",
    "train_pd = []\n",
    "train_brca = []\n",
    "train_debulking = []\n",
    "for index in range(0, len(tcga_oc_files)):\n",
    "    filename1 = tcga_oc_files[index].split(\"/\")[-1][:-4]\n",
    "    flag = -1\n",
    "    count = 0\n",
    "    for index1 in range(0, len(filenames_temp)):\n",
    "        filename2 = filenames_temp[index1]\n",
    "        if filename1 == filename2:\n",
    "            flag = 1\n",
    "            train_pfs_event.append(pfs_event_temp[count])\n",
    "            train_pfs_days.append(pfs_days_temp[count])\n",
    "            train_os_event.append(os_event_temp[count])\n",
    "            train_os_days.append(os_days_temp[count])\n",
    "            train_age.append(age_temp[count])\n",
    "            train_stage.append(stage_temp[count])\n",
    "            train_hrd.append(hrd_temp[count])\n",
    "            train_cr.append(cr_temp[count])\n",
    "            train_pr.append(pr_temp[count])\n",
    "            train_pd.append(pd_temp[count])\n",
    "            train_brca.append(brca_temp[count])\n",
    "            train_debulking.append(debulking_temp[count])\n",
    "            break\n",
    "        count += 1\n",
    "print(len(train_age))\n",
    "print(len(train_stage))\n",
    "print(len(train_debulking))\n",
    "print(len(train_brca))\n",
    "print(len(train_hrd))\n",
    "print(len(train_pr))\n",
    "print(len(train_cr))\n",
    "print(len(train_pd))\n",
    "print(len(train_os_days))\n",
    "print(len(train_os_event))\n",
    "print(len(train_pfs_days))\n",
    "print(len(train_pfs_event))"
   ]
  },
  {
   "cell_type": "code",
   "execution_count": 10,
   "id": "2ecfacbb",
   "metadata": {},
   "outputs": [
    {
     "name": "stdout",
     "output_type": "stream",
     "text": [
      "117\n",
      "117\n",
      "117\n",
      "117\n",
      "117\n",
      "117\n",
      "117\n",
      "117\n",
      "117\n",
      "117\n",
      "117\n",
      "117\n"
     ]
    }
   ],
   "source": [
    "test_pfs_event = []\n",
    "test_pfs_days = []\n",
    "test_os_event = []\n",
    "test_os_days = []\n",
    "test_age = []\n",
    "test_stage = []\n",
    "test_hrd = []\n",
    "test_cr = []\n",
    "test_pr = []\n",
    "test_pd = []\n",
    "test_brca = []\n",
    "test_debulking = []\n",
    "for index in range(0, len(upmc_oc_files)):\n",
    "    filename1 = upmc_oc_files[index].split(\"/\")[-1][:-4]\n",
    "    flag = -1\n",
    "    count = 0\n",
    "    for index1 in range(0, len(t_filenames_temp)):\n",
    "        filename2 = t_filenames_temp[index1]\n",
    "        if filename1 == filename2:\n",
    "            flag = 1\n",
    "            test_pfs_event.append(t_pfs_event_temp[count])\n",
    "            test_pfs_days.append(t_pfs_days_temp[count])\n",
    "            test_os_event.append(t_os_event_temp[count])\n",
    "            test_os_days.append(t_os_days_temp[count])\n",
    "            test_age.append(t_age_temp[count])\n",
    "            test_stage.append(t_stage_temp[count])\n",
    "            test_hrd.append(t_hrd_temp[count])\n",
    "            test_cr.append(t_cr_temp[count])\n",
    "            test_pr.append(t_pr_temp[count])\n",
    "            test_pd.append(t_pd_temp[count])\n",
    "            test_brca.append(t_brca_temp[count])\n",
    "            test_debulking.append(t_debulking_temp[count])\n",
    "            break\n",
    "        count += 1\n",
    "    \n",
    "    if flag == -1:\n",
    "        print(filename1)\n",
    "print(len(test_age))\n",
    "print(len(test_stage))\n",
    "print(len(test_debulking))\n",
    "print(len(test_brca))\n",
    "print(len(test_hrd))\n",
    "print(len(test_pr))\n",
    "print(len(test_cr))\n",
    "print(len(test_pd))\n",
    "print(len(test_os_days))\n",
    "print(len(test_os_event))\n",
    "print(len(test_pfs_days))\n",
    "print(len(test_pfs_event))"
   ]
  },
  {
   "cell_type": "code",
   "execution_count": 11,
   "id": "e3bb1fde",
   "metadata": {},
   "outputs": [
    {
     "name": "stdout",
     "output_type": "stream",
     "text": [
      "150\n",
      "150\n",
      "150\n",
      "150\n",
      "150\n",
      "150\n"
     ]
    }
   ],
   "source": [
    "test_pfs_event_1 = []\n",
    "test_pfs_days_1 = []\n",
    "test_os_event_1 = []\n",
    "test_os_days_1 = []\n",
    "test_age_1 = []\n",
    "test_stage_1 = []\n",
    "for index in range(0, len(ucla_oc_files)):\n",
    "    filename1 = ucla_oc_files[index].split(\"/\")[-1][:-4]\n",
    "    flag = -1\n",
    "    count = 0\n",
    "    for index1 in range(0, len(t1_filenames_temp)):\n",
    "        filename2 = t1_filenames_temp[index1]\n",
    "        if filename1 == filename2:\n",
    "            flag = 1\n",
    "            test_pfs_event_1.append(t1_pfs_event_temp[count])\n",
    "            test_pfs_days_1.append(t1_pfs_days_temp[count])\n",
    "            test_os_event_1.append(t1_os_event_temp[count])\n",
    "            test_os_days_1.append(t1_os_days_temp[count])\n",
    "            test_age_1.append(t1_age_temp[count])\n",
    "            test_stage_1.append(t1_stage_temp[count])\n",
    "            break\n",
    "        count += 1\n",
    "    \n",
    "    if flag == -1:\n",
    "        print(filename1)\n",
    "print(len(test_age_1))\n",
    "print(len(test_stage_1))\n",
    "print(len(test_os_days_1))\n",
    "print(len(test_os_event_1))\n",
    "print(len(test_pfs_days_1))\n",
    "print(len(test_pfs_event_1))"
   ]
  },
  {
   "cell_type": "code",
   "execution_count": 12,
   "id": "78c442d4",
   "metadata": {},
   "outputs": [],
   "source": [
    "train_features = np.array(tcga_features)\n",
    "test_features = np.array(upmc_features+ucla_features)\n",
    "train_censor = np.array(train_os_event)\n",
    "train_days = np.array(train_os_days)\n",
    "test_censor = np.array(test_os_event+test_os_event_1)\n",
    "test_days = np.array(test_os_days+test_os_days_1)"
   ]
  },
  {
   "cell_type": "code",
   "execution_count": 13,
   "id": "ffa8800b",
   "metadata": {},
   "outputs": [
    {
     "name": "stdout",
     "output_type": "stream",
     "text": [
      "102\n",
      "267\n"
     ]
    }
   ],
   "source": [
    "train_y = []\n",
    "for index in range(0, len(train_censor)):\n",
    "    train_y.append([train_censor[index], train_days[index]])\n",
    "print(len(train_y))\n",
    "\n",
    "test_y = []\n",
    "for index in range(0, len(test_censor)):\n",
    "    test_y.append([test_censor[index], test_days[index]])\n",
    "print(len(test_y))"
   ]
  },
  {
   "cell_type": "code",
   "execution_count": 14,
   "id": "a9ea84c1",
   "metadata": {},
   "outputs": [
    {
     "name": "stdout",
     "output_type": "stream",
     "text": [
      "Test: 0.5317971770771117\n",
      "Train: 0.7153979238754326\n"
     ]
    }
   ],
   "source": [
    "# run on test set\n",
    "group = []\n",
    "train_group = []\n",
    "features_train = train_features\n",
    "features_test = test_features\n",
    "y_train = train_y\n",
    "dt = dtype=[('Status', '?'), ('Survival_in_days', '<f8')]\n",
    "y_train = np.array([tuple(row) for row in y_train], dtype=dt)\n",
    "scaler = MinMaxScaler()\n",
    "features_train = scaler.fit_transform(features_train)\n",
    "features_test = scaler.transform(features_test)\n",
    "features_train_df = pd.DataFrame(features_train)\n",
    "features_test_df = pd.DataFrame(features_test)\n",
    "\n",
    "# fit model\n",
    "estimator = CoxnetSurvivalAnalysis()\n",
    "estimator.fit(features_train_df, y_train)\n",
    "score, _, _, _, _ = concordance_index_censored(test_censor, test_days, estimator.predict(features_test_df))\n",
    "print(\"Test: \" + str(score))\n",
    "score, _, _, _, _ = concordance_index_censored(train_censor, train_days, estimator.predict(features_train_df))\n",
    "print(\"Train: \" + str(score))\n",
    "\n",
    "# get risk scores\n",
    "train_risk_scores = estimator.predict(features_train_df)\n",
    "test_risk_scores = estimator.predict(features_test_df)"
   ]
  },
  {
   "cell_type": "code",
   "execution_count": 15,
   "id": "a42fbbf3",
   "metadata": {},
   "outputs": [
    {
     "name": "stdout",
     "output_type": "stream",
     "text": [
      "-0.031388674368200364\n"
     ]
    }
   ],
   "source": [
    "# train\n",
    "median = np.median(train_risk_scores)\n",
    "count_low = 0\n",
    "count_high = 0\n",
    "for index in range(0, len(train_risk_scores)):\n",
    "    if train_risk_scores[index] > median:\n",
    "        count_high += 1\n",
    "        train_group.append(1)\n",
    "    else:\n",
    "        count_low += 1\n",
    "        train_group.append(0)\n",
    "\n",
    "# test\n",
    "count_low = 0\n",
    "count_high = 0\n",
    "for index in range(0, len(test_risk_scores)):\n",
    "    if test_risk_scores[index] > median:\n",
    "        count_high += 1\n",
    "        group.append(1)\n",
    "    else:\n",
    "        count_low += 1\n",
    "        group.append(0)\n",
    "print(median)"
   ]
  },
  {
   "cell_type": "code",
   "execution_count": null,
   "id": "420ab60f",
   "metadata": {},
   "outputs": [],
   "source": []
  },
  {
   "cell_type": "code",
   "execution_count": 16,
   "id": "4f6056b3",
   "metadata": {},
   "outputs": [
    {
     "name": "stdout",
     "output_type": "stream",
     "text": [
      "2594.059243265; 143.39020943100002; 16.043659806500003; 822.237564435; 1507.10129216; 2795.607719445; 2668.26116979; 268.7313015835; 31.084590846500003; 361.985074245; 92.251043834; 1520.1367655450001; 84.2292139155; 365.99598925; 1160.157148955; 137.37383701500002; 458.24703284000003; 1587.31959104; 2348.3907026399997; 1006.7396522250001; 2014.482033125; 31.084590846500003; 823.240293415; 1282.49005493; 61.166452957; 945.5731990849999; 135.36837951249998; 1496.07127582; 2135.0; 1015.7642109100001; 732.9947068700001; 397.080580005; 346.944143205; 593.615412505; 45.122793181; 723.970148185; 1243.3836341649999; 2094.700332005; 317.8650098; 1210.2935857549999; 98.26741625; 53.144623069; 1662.5242462400001; 577.57175279; 680.8528127200001; 9.15; 951.589571745; 1450.9484827; 1587.31959104; 1192.2444686899998; 884.40674625; 765.082026605; 1020.7778545900001; 1093.9770524399999; 1566.262287645; 194.52937502799998; 130.3547358325; 566.5417364499999; 395.07512235; 1281.487326255; 1830.0; 2623.1383766699996; 304.82953611; 763.07656895; 3963.7866977999997; 1803.9089982599999; 882.4012888999999; 519.41348598; 1165.170792635; 842.292139155; 9.024558623999999; 762.073840275; 1252.40819285; 1449.945754025; 885.409474925; 456.24157549; 116.3165335285; 977.83; 1982.39471339; 1515.123121865; 761.0711116; 1236.364533135; 1066.903376385; 1037.82424298; 731.991978195; 1158.151691605; 978.663247495; 3534.61879745; 818.2266497349999; 84.2292139155; 1035.81878563; 625.7027319350001; 609.65907222; 1281.487326255; 396.07785133; 469.27704918; 888.417661255; 421.14606972999997; 576.5690238100001; 91.248315098; 90.245586362; 1372.73564117\n"
     ]
    }
   ],
   "source": [
    "print(*train_days, sep=\"; \")"
   ]
  },
  {
   "cell_type": "code",
   "execution_count": 17,
   "id": "04edb775",
   "metadata": {},
   "outputs": [
    {
     "name": "stdout",
     "output_type": "stream",
     "text": [
      "1; 0; 0; 1; 0; 0; 0; 0; 1; 0; 1; 1; 0; 1; 1; 0; 1; 1; 1; 1; 1; 1; 1; 1; 1; 1; 0; 1; 1; 1; 1; 1; 1; 1; 1; 0; 0; 1; 1; 0; 0; 1; 0; 0; 0; 1; 1; 1; 1; 1; 0; 0; 1; 1; 1; 0; 0; 1; 1; 0; 1; 0; 1; 0; 0; 1; 1; 1; 1; 1; 1; 1; 1; 1; 1; 1; 0; 1; 1; 1; 1; 0; 1; 1; 1; 1; 1; 0; 0; 1; 1; 1; 1; 1; 1; 0; 0; 0; 1; 1; 1; 1\n"
     ]
    }
   ],
   "source": [
    "a = []\n",
    "for index in range(0, len(train_censor)):\n",
    "    if train_censor[index] == False:\n",
    "        a.append(0)\n",
    "    else:\n",
    "        a.append(1)\n",
    "print(*a, sep=\"; \")"
   ]
  },
  {
   "cell_type": "code",
   "execution_count": 18,
   "id": "ec176a43",
   "metadata": {},
   "outputs": [
    {
     "name": "stdout",
     "output_type": "stream",
     "text": [
      "-1.174529364205475; -1.2003069955310448; -0.31611128817716483; -0.7480043630337436; -1.6054483663565142; -1.0419944334782683; -0.8923555316357086; 0.45055689196031934; -0.7158087274950022; 1.3516015870182725; 0.2809224560220114; -0.31627047847018197; -0.6182169847179113; 0.13391208433371204; -0.042637744236393216; -0.28744523052553284; -0.24051108990733283; -0.25094937533539685; -0.7321095881739592; -0.2623193411369177; -0.2937577876259625; 0.45738797165969824; 0.5005624707815184; -0.5497362740201424; -0.11384126292878949; 0.38089471971961486; -1.5140880310221896; -0.5539341341057749; 0.08566829089891526; 0.06172129391127634; 1.4664374562348539; 0.5263750871167285; 2.019925092292007; 0.7817281299882639; 2.7397311061563316; -1.0211662708769675; -0.5040254766360344; 0.13155562655845676; 0.8171663189165832; -1.8998009800084832; 0.13567986129329257; 2.034362263845625; -0.19315123827987613; -0.2164111466784045; -0.1012987262719025; 0.17097609755803478; 0.7508966385693492; 0.12707941793820154; -0.6003736723799002; 1.3516144484134283; 0.8216771656267448; 0.12786603954302356; -0.42999060184916393; 0.36677566501708325; -0.7146855024187329; 0.9376233473021833; 1.3553296933165893; -1.1937403343154163; 0.819259777713641; -1.1145894451668155; -1.117550181171669; -0.6502798092028335; 0.6224233041267679; -0.1649035060095836; -0.4502443575036088; -0.020139604500007513; 0.5631666523373078; 1.031312415459297; -1.8519684875564364; 0.789379980302438; 0.7059195373797973; 0.2677066683684697; -0.47632558341379916; 0.16687881647070135; -0.440879265281772; 0.3284977680580299; -1.8131585498694442; 0.5162373832199996; 0.30203087911823756; -0.6315234518254427; -0.19441107916795275; -1.212615392004359; 0.9852220797750759; -0.632929344713671; 1.0355579653275704; -0.06373992323342637; 0.4252728563327035; -0.7996979189482534; -1.0286280674683512; -0.20946203060569046; 0.7183400753763836; 0.6491426862094642; 1.8243719178559108; 0.20591676863208486; 1.248207627045733; 0.7887069373772928; -1.4524795935470716; -0.3974957060265836; 0.4543529532036614; -0.2151939365488087; 0.17573752519627472; 0.29356577871753287\n"
     ]
    }
   ],
   "source": [
    "print(*train_risk_scores, sep='; ')"
   ]
  },
  {
   "cell_type": "code",
   "execution_count": 19,
   "id": "812912ca",
   "metadata": {},
   "outputs": [
    {
     "name": "stdout",
     "output_type": "stream",
     "text": [
      "0; 0; 0; 0; 0; 0; 0; 1; 0; 1; 1; 0; 0; 1; 0; 0; 0; 0; 0; 0; 0; 1; 1; 0; 0; 1; 0; 0; 1; 1; 1; 1; 1; 1; 1; 0; 0; 1; 1; 0; 1; 1; 0; 0; 0; 1; 1; 1; 0; 1; 1; 1; 0; 1; 0; 1; 1; 0; 1; 0; 0; 0; 1; 0; 0; 1; 1; 1; 0; 1; 1; 1; 0; 1; 0; 1; 0; 1; 1; 0; 0; 0; 1; 0; 1; 0; 1; 0; 0; 0; 1; 1; 1; 1; 1; 1; 0; 0; 1; 0; 1; 1\n"
     ]
    }
   ],
   "source": [
    "print(*train_group, sep=\"; \")"
   ]
  },
  {
   "cell_type": "code",
   "execution_count": 20,
   "id": "5c0c4bf4",
   "metadata": {},
   "outputs": [
    {
     "name": "stdout",
     "output_type": "stream",
     "text": [
      "267\n",
      "793.0; 1647.0; 3324.5; 2257.0; 2409.5; 2379.0; 2440.0; 854.0; 2379.0; 6100.0; 2440.0; 945.5; 854.0; 610.0; 1555.5; 1006.5; 122.0; 1281.0; 1037.0; 457.5; 1098.0; 1738.5; 3538.0; 3111.0; 488.0; 1403.0; 1189.5; 1738.5; 1037.0; 854.0; 1128.5; 6954.0; 1281.0; 2653.5; 884.5; 1342.0; 2806.0; 793.0; 1067.5; 1830.0; 1403.0; 1098.0; 1403.0; 122.0; 1494.5; 793.0; 1128.5; 579.5; 4422.5; 427.0; 2013.0; 5886.5; 1128.5; 3934.5; 3843.0; 4636.0; 1159.0; 610.0; 3690.5; 1037.0; 610.0; 1281.0; 1189.5; 640.5; 1616.5; 244.0; 4697.0; 1189.5; 854.0; 1220.0; 854.0; 4819.0; 1067.5; 976.0; 640.5; 1342.0; 1799.5; 2653.5; 183.0; 549.0; 1921.5; 1067.5; 4453.0; 1799.5; 1769.0; 1464.0; 5307.0; 488.0; 2379.0; 2379.0; 2196.0; 2653.5; 1647.0; 1677.5; 1403.0; 640.5; 1067.5; 1006.5; 366.0; 732.0; 2653.5; 2470.5; 3965.0; 793.0; 4026.0; 1860.5; 3477.0; 2623.0; 1677.5; 732.0; 1799.5; 1037.0; 732.0; 183.0; 2135.0; 3446.5; 2745.0; 2501.0; 488.0; 1647.0; 244.0; 915.0; 427.0; 488.0; 610.0; 10766.5; 1433.5; 9028.0; 1525.0; 3080.5; 1830.0; 762.5; 976.0; 366.0; 2196.0; 2440.0; 701.5; 579.5; 274.5; 1098.0; 1159.0; 1037.0; 122.0; 2379.0; 823.5; 1891.0; 1769.0; 1159.0; 488.0; 1098.0; 2226.5; 3294.0; 3690.5; 793.0; 854.0; 1037.0; 3690.5; 1555.5; 976.0; 915.0; 2958.5; 335.5; 1311.5; 1159.0; 396.5; 1189.5; 2745.0; 3385.5; 976.0; 1769.0; 457.5; 61.0; 945.5; 10339.5; 1525.0; 274.5; 976.0; 3019.5; 4117.5; 2806.0; 7808.0; 3721.0; 1555.5; 884.5; 5764.5; 2074.0; 945.5; 2196.0; 457.5; 335.5; 366.0; 1586.0; 549.0; 6679.5; 2043.5; 1098.0; 10522.5; 1586.0; 488.0; 1647.0; 274.5; 427.0; 732.0; 335.5; 1006.5; 549.0; 854.0; 610.0; 488.0; 9699.0; 1037.0; 884.5; 2470.5; 1494.5; 1464.0; 1769.0; 701.5; 2287.5; 1525.0; 1982.5; 61.0; 244.0; 1647.0; 366.0; 1006.5; 488.0; 1891.0; 884.5; 1464.0; 6893.0; 4026.0; 1464.0; 701.5; 61.0; 10522.5; 152.5; 1006.5; 976.0; 579.5; 1037.0; 762.5; 396.5; 1006.5; 335.5; 793.0; 1098.0; 2196.0; 2501.0; 640.5; 2013.0; 976.0; 8265.5; 1220.0; 732.0; 1311.5; 1067.5; 1189.5; 396.5; 915.0; 1128.5; 5215.5; 1342.0; 640.5; 427.0; 732.0; 518.5; 335.5\n"
     ]
    }
   ],
   "source": [
    "print(len(test_days))\n",
    "print(*test_days, sep=\"; \")"
   ]
  },
  {
   "cell_type": "code",
   "execution_count": 21,
   "id": "9f8fc36d",
   "metadata": {},
   "outputs": [
    {
     "name": "stdout",
     "output_type": "stream",
     "text": [
      "267\n",
      "1; 1; 0; 1; 0; 0; 1; 1; 1; 0; 0; 0; 0; 1; 1; 1; 1; 1; 1; 0; 1; 1; 1; 1; 1; 1; 0; 0; 0; 1; 1; 0; 0; 1; 1; 1; 0; 1; 1; 0; 1; 1; 1; 1; 1; 0; 1; 1; 1; 1; 1; 0; 1; 0; 0; 0; 1; 1; 0; 1; 1; 1; 1; 1; 1; 1; 1; 1; 1; 1; 0; 0; 0; 1; 1; 1; 1; 0; 1; 1; 1; 1; 0; 1; 1; 1; 0; 1; 0; 0; 1; 1; 1; 0; 1; 1; 1; 0; 1; 1; 1; 1; 1; 0; 0; 1; 1; 1; 0; 1; 1; 0; 0; 1; 1; 0; 0; 1; 1; 1; 1; 1; 1; 1; 1; 0; 1; 0; 1; 1; 1; 1; 1; 1; 1; 0; 1; 1; 1; 1; 1; 1; 1; 1; 1; 1; 1; 1; 1; 1; 1; 1; 0; 1; 1; 1; 1; 1; 1; 1; 1; 1; 1; 1; 1; 1; 1; 1; 1; 1; 1; 1; 1; 0; 1; 1; 1; 1; 1; 1; 0; 1; 1; 1; 1; 1; 1; 1; 1; 1; 1; 1; 1; 0; 1; 1; 0; 1; 1; 1; 1; 1; 1; 1; 1; 1; 1; 1; 1; 0; 1; 1; 1; 1; 1; 1; 1; 1; 1; 1; 1; 1; 1; 1; 1; 1; 1; 1; 1; 0; 0; 1; 1; 1; 0; 1; 1; 1; 1; 1; 1; 1; 1; 1; 1; 1; 1; 1; 1; 1; 1; 0; 1; 1; 1; 1; 1; 1; 1; 1; 0; 1; 1; 1; 1; 1; 1\n"
     ]
    }
   ],
   "source": [
    "a = []\n",
    "for index in range(0, len(test_censor)):\n",
    "    if test_censor[index] == False:\n",
    "        a.append(0)\n",
    "    else:\n",
    "        a.append(1)\n",
    "print(len(a))\n",
    "print(*a, sep=\"; \")"
   ]
  },
  {
   "cell_type": "code",
   "execution_count": 22,
   "id": "61769c7f",
   "metadata": {},
   "outputs": [
    {
     "name": "stdout",
     "output_type": "stream",
     "text": [
      "0.2856922281375678; 1.0520870714337227; -0.8882164606117691; -1.1527217560191514; -0.05436138013420089; -0.9660223968331192; 1.8735918193058938; 0.794184423544394; 0.6388506331516963; 0.3494943985436354; 1.4590927940710372; -0.35153092972486055; -1.1645814110390846; -0.6118211675179992; 0.01794407601133441; 2.697320249309578; -0.08315920188836823; 1.005461419595262; 0.9697332127722382; -0.1710988587472081; -0.020603550943345983; 2.6323805015454926; 0.2622080909032918; -1.7591207459473126; -0.9073835632353333; -1.283567457525047; -0.08578663879278436; 0.4842285895277081; 1.2322428331292161; -0.8634084611362076; 0.7071408733471656; -0.2315438205843694; 1.5856146491059033; 0.12491066040527343; 0.4699286012146633; 2.613850911980687; -0.31743031584811376; 0.8416207098379443; 0.702348375132491; 0.9718278196330717; 0.4593613840658153; 0.7736391391277793; 0.39060960068801787; 0.09788145032805762; 1.243397798016094; 1.1848422397463856; 0.293345311174936; 2.262158567526909; 0.08037679713958323; -0.3072489940157832; 1.1568398053983224; -0.38623500480171513; 0.6015496496022524; -0.45528824503811416; -0.2025739848224839; 0.2888299259679328; 0.8524761213801515; 0.6249487334397288; 2.4951071364563497; 0.8467880900519584; 0.5627619341245846; -0.09649564255037446; -0.6138759574837505; -0.6497369662456922; -0.1937921785472727; -0.48289729799232406; 1.072422760939733; 0.18133903788734196; 0.12739061156353126; 0.5726929406499683; 0.495025557875745; 3.228976666714936; 2.1109535339609278; 0.04011756252709742; 1.7830530502767488; 0.38484832210410835; -0.3287834245016139; 2.253143438297716; 0.6431130977941513; 1.0488384280831684; -0.8475257833227119; 0.7771933749046247; -0.21473322766686376; 0.797632843070728; 0.5021080999413428; 1.3399271169562412; 0.06679775425920154; 2.4181482715232017; -0.1318105188551355; 0.23081080393682374; 0.7701434801584826; -1.6406343113654147; 1.0992874103003156; -0.32911019059988056; 1.2698332366265794; 0.4381119196833947; 0.37178173893546784; -0.5726685346736372; -1.2427187533726052; 0.7449013232691662; -0.5449320704930067; 2.37497015417779; -0.6444587921363465; 0.4201069898389851; 0.0985833984325234; 0.28641894567609094; -0.0483151874658759; -0.012923758481187875; -0.49089606614195636; -0.73715784672155; 2.088479240718347; -0.6941632975549143; 1.1386392132977663; 0.9991053869784117; 0.049884315716112015; 2.678159006904289; -1.980274353389224; 0.735052347623355; -0.4245954871527613; 0.3477782480924345; 0.01623650418874445; 0.33429844194065805; -0.18085617227185358; 0.5129261893203629; 1.3414024387629149; 0.8554808508628007; 1.8795679179066418; -1.226165213112942; 0.09516966642474323; -0.3408958554489212; -0.7431546398031412; 0.5083411799868116; -0.33689211397396956; 1.3378830385585017; 0.7596605250789374; 0.7494384161219934; -1.8110827201495534; 0.9853027388919315; -0.679030727000397; 0.15719097472393062; -0.10661267411001174; 0.008144618672491388; 0.7163543716021015; 0.20290838229935293; 0.23871358939982312; 1.0042656392604516; 1.039968577179818; 0.5710553311214572; 0.04047553950102578; 1.1252346278355492; -0.025046926816659543; 0.6320232765416676; 0.777968665707349; 1.6727113515496554; 1.1343975105775947; 0.8015954072769037; -2.345723563084178; -1.08648753328074; 1.749111815216369; 0.5529810743805994; -0.772170535656592; 0.0930955650138443; 1.1608697097180536; -0.8610851855505521; 0.9773272101242645; -0.4618097634435623; 0.3208374747335503; 0.36159522205912586; -0.15587769890725123; 1.006399472815624; 1.5960113360380914; -0.5080180934309322; 2.210224588693598; 0.17196698791298903; -0.924779179143417; 0.5258979486814741; -0.634027615544293; -1.347065210883576; 0.550026870969271; 0.21255438997971443; 0.28835369475750583; 0.9636287648752471; -0.7386393337535603; 0.9630749546121657; -1.013442432984709; -1.8758550596099384; 0.8306358454262754; 1.4893156792358606; 0.8654494910612909; -0.1012277705362159; 0.36063322684012034; -1.0559222858536639; 0.2267057638847123; 0.6865990600963647; 0.6199987628904164; -0.06877747449019211; -0.3603324805364536; 0.1423205744070879; 0.8803151916154051; -1.1725375736423196; 1.1836887916536032; -0.7256361043436328; 0.7825356551174338; 0.2506823501371318; 0.8614190851949408; -0.3203480957470408; 0.7105298758928338; -0.7220801083723418; 1.6976649599541604; -0.9515422632176578; -0.03643726662606839; -0.6052643596160494; 1.2322578936462514; -0.1037301333415157; -1.1813024971581898; 0.7736716033644535; 0.09318590309663977; 2.660092737336149; 0.7612293207042793; -0.5042715427021727; 0.26268423771744986; 0.7662451970605944; -1.226035781232883; 0.12923512293397743; 0.33069069780505234; 0.04768841222393849; 0.4592435389218694; 0.48884721466144265; 1.070770223458088; -0.7280285228058636; 0.006614071569019941; 1.4368590516035058; 2.0846650124598365; 0.9085294929811036; 1.2106341621060805; 0.21935846497390266; 1.6930409140015195; 0.43535338436146476; 1.5516910354708187; 0.6244321797011416; 1.1879673258054397; -0.7441651061976938; 1.1159174819875488; 0.677880336719985; 0.5743080251838151; -0.26505364570016243; 1.370589368208922; 0.6528887487003927; 0.7954744378141774; -0.13638826545914196; 0.3725093711505607; -0.10260402332322083; -0.6686895459828996; 1.1728154250270015; -0.5778162856355638; -0.12013168178235523; 0.7806207925401918; -0.49271057644617344; 1.3335389987376733; -1.868150976437949; -0.043572529465819576; 0.6562230198820287; -0.7203599666097049; -1.2492663694868236; 8.81954189209111e-05; -0.14281848038112566; 0.3619932117074973\n"
     ]
    }
   ],
   "source": [
    "print(*test_risk_scores, sep='; ')"
   ]
  },
  {
   "cell_type": "code",
   "execution_count": 23,
   "id": "eb349730",
   "metadata": {},
   "outputs": [
    {
     "name": "stdout",
     "output_type": "stream",
     "text": [
      "267\n",
      "1; 1; 0; 0; 0; 0; 1; 1; 1; 1; 1; 0; 0; 0; 1; 1; 0; 1; 1; 0; 1; 1; 1; 0; 0; 0; 0; 1; 1; 0; 1; 0; 1; 1; 1; 1; 0; 1; 1; 1; 1; 1; 1; 1; 1; 1; 1; 1; 1; 0; 1; 0; 1; 0; 0; 1; 1; 1; 1; 1; 1; 0; 0; 0; 0; 0; 1; 1; 1; 1; 1; 1; 1; 1; 1; 1; 0; 1; 1; 1; 0; 1; 0; 1; 1; 1; 1; 1; 0; 1; 1; 0; 1; 0; 1; 1; 1; 0; 0; 1; 0; 1; 0; 1; 1; 1; 0; 1; 0; 0; 1; 0; 1; 1; 1; 1; 0; 1; 0; 1; 1; 1; 0; 1; 1; 1; 1; 0; 1; 0; 0; 1; 0; 1; 1; 1; 0; 1; 0; 1; 0; 1; 1; 1; 1; 1; 1; 1; 1; 1; 1; 1; 1; 1; 1; 1; 0; 0; 1; 1; 0; 1; 1; 0; 1; 0; 1; 1; 0; 1; 1; 0; 1; 1; 0; 1; 0; 0; 1; 1; 1; 1; 0; 1; 0; 0; 1; 1; 1; 0; 1; 0; 1; 1; 1; 0; 0; 1; 1; 0; 1; 0; 1; 1; 1; 0; 1; 0; 1; 0; 0; 0; 1; 0; 0; 1; 1; 1; 1; 0; 1; 1; 0; 1; 1; 1; 1; 1; 1; 0; 1; 1; 1; 1; 1; 1; 1; 1; 1; 1; 1; 0; 1; 1; 1; 0; 1; 1; 1; 0; 1; 0; 0; 1; 0; 0; 1; 0; 1; 0; 0; 1; 0; 0; 1; 0; 1\n"
     ]
    }
   ],
   "source": [
    "print(len(group))\n",
    "print(*group, sep=\"; \")"
   ]
  },
  {
   "cell_type": "code",
   "execution_count": null,
   "id": "91c0507a",
   "metadata": {},
   "outputs": [],
   "source": []
  },
  {
   "cell_type": "code",
   "execution_count": 24,
   "id": "11fc4d76",
   "metadata": {},
   "outputs": [
    {
     "name": "stdout",
     "output_type": "stream",
     "text": [
      "0 0.0221565003487717\n",
      "1 0.03368286367107484\n",
      "2 0.011275766827634199\n",
      "3 -0.00038625705562837066\n",
      "4 0.0009359031532353456\n",
      "5 0.03224270293557591\n",
      "6 -0.003814129259849575\n",
      "7 -0.0028064367750474115\n",
      "8 -0.010774577620709939\n",
      "9 0.03869170343692291\n",
      "10 -0.01028754926120012\n",
      "11 0.014888850590702376\n",
      "12 -0.01635485705189915\n",
      "13 0.006706758406606901\n",
      "14 -0.006287030903067476\n",
      "15 -0.0013132939133200566\n",
      "16 -0.024681707111511006\n",
      "17 0.046536837337497416\n",
      "18 0.008644904192316748\n",
      "19 -0.018552655380394717\n",
      "20 0.010769839672545722\n",
      "21 -0.01255805456595892\n",
      "22 0.00864259090131374\n",
      "23 -0.0008511410673447672\n",
      "24 0.028952830814315808\n",
      "25 -0.029695905897374385\n",
      "26 0.00955963197176243\n",
      "27 0.003957749199646939\n",
      "28 0.002531035336940767\n",
      "29 0.019134274605283854\n",
      "30 0.009399826149977048\n",
      "31 0.035128607968803766\n",
      "32 0.0032151746184532924\n",
      "33 -0.02195232609170379\n",
      "34 -0.05167272338291648\n",
      "35 -0.05586974042537949\n",
      "\n",
      "Prognostic features count = 36\n"
     ]
    }
   ],
   "source": [
    "# find prognostic features from model trained above\n",
    "count = 0\n",
    "for index1 in range(0, len(estimator.coef_)):\n",
    "    flag = -1\n",
    "    for index2 in range(0, 100):\n",
    "        if estimator.coef_[index1][index2] > 0 or estimator.coef_[index1][index2] < 0:\n",
    "            flag = 1\n",
    "            print(str(index1) + \" \" + str(estimator.coef_[index1][index2]))\n",
    "            break\n",
    "    if flag == 1:\n",
    "        count += 1\n",
    "print()\n",
    "print(\"Prognostic features count = \" + str(count))"
   ]
  },
  {
   "cell_type": "code",
   "execution_count": null,
   "id": "645ebec4",
   "metadata": {},
   "outputs": [],
   "source": []
  }
 ],
 "metadata": {
  "kernelspec": {
   "display_name": "Python 3",
   "language": "python",
   "name": "python3"
  },
  "language_info": {
   "codemirror_mode": {
    "name": "ipython",
    "version": 3
   },
   "file_extension": ".py",
   "mimetype": "text/x-python",
   "name": "python",
   "nbconvert_exporter": "python",
   "pygments_lexer": "ipython3",
   "version": "3.8.8"
  }
 },
 "nbformat": 4,
 "nbformat_minor": 5
}
